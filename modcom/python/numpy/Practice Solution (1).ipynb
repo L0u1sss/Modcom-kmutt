{
 "cells": [
  {
   "cell_type": "markdown",
   "id": "3af9a703",
   "metadata": {},
   "source": [
    "### โจทย์ข้อที่ 1\n",
    "**!!เหตุการณ์ต่อไปนี้เป็รนเรื่องสมมติ!!**  \n",
    "ในโรงพยาบาลแห่งหนึ่งมีการบันทึกข้อมูลสุขภาพของผู้ป่วยในแต่ละเดือน ข้อมูลนี้รวมถึงค่าต่าง ๆ เช่น น้ำหนัก ส่วนสูง ความดันโลหิต คอเลสเตอรอล และระดับน้ำตาลในเลือด นักสืบได้รับข้อมูลมาว่าผู้ต้องสงสัยคดีทำให้กระรอกตกใจจนพลัดตกจากต้นไม้ ได้มาตรวจสุขภาพที่โรงพยาบาลแห่งนี้ โดยจากความช่วยเหลือของตำรวจทำให้ทราบว่าผู้ต้องสงสัยมีลักษณะดังนี้:\n",
    "1. มีส่วนสูงมากกว่า 180 cm.\n",
    "2. มีค่าคอเลสเตอรอลสูง (>200)\n",
    "3. มีความเสี่ยงในการเป็นโรคเบาหวาน (ระดับน้ำตาล > 126 mg/dL)\n",
    "\n",
    "คุณได้รับข้อมูลจากโรงพยาบาลดังนี้:\n",
    "\n",
    "+ ข้อมูลสุขภาพในรูปแบบของอาเรย์ 3 มิติที่เรียกว่า health_data โดยมิติแรกแทนผู้ป่วย และมิติที่สองแทนข้อมูลสุขภาพ (เช่น ชื่อ, น้ำหนัก, ส่วนสูง, ความดันโลหิต, คอเลสเตอรอล, ระดับน้ำตาลในเลือด)\n",
    "+ ชื่อของข้อมูลสุขภาพเป็นอาเรย์ 1 มิติที่เรียกว่า col\n",
    "+ ข้อมูลชื่อของผู้ที่มาตรวจสุขภาพที่เรียกว่า names\n",
    "\n",
    "จงหาตัวผู้ต้องสงสัยจากข้อมูลที่ได้รับโดยใช้ NumPy"
   ]
  },
  {
   "cell_type": "code",
   "execution_count": 122,
   "id": "bb561120",
   "metadata": {},
   "outputs": [],
   "source": [
    "#Data\n",
    "\n",
    "import numpy as np\n",
    "\n",
    "col = np.array(['Weight (kg)', 'Height (cm)', 'Systolic BP (mmHg)', 'Diastolic BP (mmHg)', \n",
    "                           'Cholesterol (mg/dL)', 'Blood Sugar (mg/dL)'])\n",
    "names = np.array(['Barbara Smith', 'Regina Price', 'Katherine Mckinney', 'Andrea Myers', 'Christopher Mejia', \n",
    "                  'Tracy Wyatt', 'Paula Montgomery', 'Stephanie Blair', 'Jessica West', 'Darius Mclaughlin'])\n",
    "health_data = np.array([[78.95106854489279, 164.28755344748134,\n",
    "        134.37210847760352, 84.30020482280614, 166.5766693301355,\n",
    "        77.74565541366933],\n",
    "       [56.28286149726324, 173.87348888602455,\n",
    "        123.67016662007772, 67.52599975127907, 171.02360174983443,\n",
    "        72.64300210804231],\n",
    "       [59.06070663873062, 157.4905375413748,\n",
    "        134.6391477127822, 89.75954764283404, 184.36469019843707,\n",
    "        91.93379720182456],\n",
    "       [96.76844457328778, 157.25709732392187,\n",
    "        110.9281946243964, 65.38432009204975, 187.6976585589261,\n",
    "        73.78458924755833],\n",
    "       [86.41684488925083, 182.141745843499,\n",
    "        92.83614994969346, 64.17032338919994, 222.85476815815304,\n",
    "        134.57507983340636],\n",
    "       [84.73881986599898, 184.64139307194935,\n",
    "        126.72997825018942, 86.83791301531669, 240.6533059997496,\n",
    "        122.62215009748088],\n",
    "       [86.74231082921148, 174.2313067970698,\n",
    "        133.45300755990263, 72.4048611555113, 159.0671326593094,\n",
    "        103.89185238685562],\n",
    "       [71.4241652691023, 154.1240689464118,\n",
    "        96.4964382958529, 88.77455100735051, 235.7133370809263,\n",
    "        71.11033577641615],\n",
    "       [54.82865443705211, 167.6834515896866,\n",
    "        114.72894481922124, 80.58113845471131, 198.89402203125212,\n",
    "        133.72264898617732],\n",
    "       [96.68170181861292, 186.4276684736548,\n",
    "        116.22460426091052, 82.47828497865363, 229.18031734603449,\n",
    "        92.46709886946856]])"
   ]
  },
  {
   "cell_type": "markdown",
   "id": "a9ba9901",
   "metadata": {},
   "source": [
    "<b>Problem 1 solution</b>  "
   ]
  },
  {
   "cell_type": "code",
   "execution_count": 134,
   "id": "0ea9890d",
   "metadata": {},
   "outputs": [
    {
     "name": "stdout",
     "output_type": "stream",
     "text": [
      "ผู้ต้องสงสัยคือ: Christopher Mejia\n"
     ]
    }
   ],
   "source": [
    "index = np.where((health_data[:,1]>180) & (health_data[:,4] > 200) & (health_data[:,5] > 126))\n",
    "name = names[index]\n",
    "print(\"ผู้ต้องสงสัยคือ:\", name[0])"
   ]
  },
  {
   "cell_type": "markdown",
   "id": "75e7a43e",
   "metadata": {},
   "source": [
    "### โจทย์ข้อที่ 2\n",
    "เหมือนโจทย์ข้อ 1 แต่ให้ใช้ Pandas"
   ]
  },
  {
   "cell_type": "markdown",
   "id": "2b3aae91",
   "metadata": {},
   "source": [
    "<b>Problem 2 solution</b>  "
   ]
  },
  {
   "cell_type": "code",
   "execution_count": 124,
   "id": "9555c234",
   "metadata": {},
   "outputs": [],
   "source": [
    "df = pd.DataFrame(health_data, columns=col, index=names)"
   ]
  },
  {
   "cell_type": "code",
   "execution_count": 125,
   "id": "95929cf6",
   "metadata": {},
   "outputs": [
    {
     "data": {
      "text/html": [
       "<div>\n",
       "<style scoped>\n",
       "    .dataframe tbody tr th:only-of-type {\n",
       "        vertical-align: middle;\n",
       "    }\n",
       "\n",
       "    .dataframe tbody tr th {\n",
       "        vertical-align: top;\n",
       "    }\n",
       "\n",
       "    .dataframe thead th {\n",
       "        text-align: right;\n",
       "    }\n",
       "</style>\n",
       "<table border=\"1\" class=\"dataframe\">\n",
       "  <thead>\n",
       "    <tr style=\"text-align: right;\">\n",
       "      <th></th>\n",
       "      <th>Weight (kg)</th>\n",
       "      <th>Height (cm)</th>\n",
       "      <th>Systolic BP (mmHg)</th>\n",
       "      <th>Diastolic BP (mmHg)</th>\n",
       "      <th>Cholesterol (mg/dL)</th>\n",
       "      <th>Blood Sugar (mg/dL)</th>\n",
       "    </tr>\n",
       "  </thead>\n",
       "  <tbody>\n",
       "    <tr>\n",
       "      <th>Barbara Smith</th>\n",
       "      <td>78.951069</td>\n",
       "      <td>164.287553</td>\n",
       "      <td>134.372108</td>\n",
       "      <td>84.300205</td>\n",
       "      <td>166.576669</td>\n",
       "      <td>77.745655</td>\n",
       "    </tr>\n",
       "    <tr>\n",
       "      <th>Regina Price</th>\n",
       "      <td>56.282861</td>\n",
       "      <td>173.873489</td>\n",
       "      <td>123.670167</td>\n",
       "      <td>67.526000</td>\n",
       "      <td>171.023602</td>\n",
       "      <td>72.643002</td>\n",
       "    </tr>\n",
       "    <tr>\n",
       "      <th>Katherine Mckinney</th>\n",
       "      <td>59.060707</td>\n",
       "      <td>157.490538</td>\n",
       "      <td>134.639148</td>\n",
       "      <td>89.759548</td>\n",
       "      <td>184.364690</td>\n",
       "      <td>91.933797</td>\n",
       "    </tr>\n",
       "    <tr>\n",
       "      <th>Andrea Myers</th>\n",
       "      <td>96.768445</td>\n",
       "      <td>157.257097</td>\n",
       "      <td>110.928195</td>\n",
       "      <td>65.384320</td>\n",
       "      <td>187.697659</td>\n",
       "      <td>73.784589</td>\n",
       "    </tr>\n",
       "    <tr>\n",
       "      <th>Christopher Mejia</th>\n",
       "      <td>86.416845</td>\n",
       "      <td>182.141746</td>\n",
       "      <td>92.836150</td>\n",
       "      <td>64.170323</td>\n",
       "      <td>222.854768</td>\n",
       "      <td>134.575080</td>\n",
       "    </tr>\n",
       "    <tr>\n",
       "      <th>Tracy Wyatt</th>\n",
       "      <td>84.738820</td>\n",
       "      <td>184.641393</td>\n",
       "      <td>126.729978</td>\n",
       "      <td>86.837913</td>\n",
       "      <td>240.653306</td>\n",
       "      <td>122.622150</td>\n",
       "    </tr>\n",
       "    <tr>\n",
       "      <th>Paula Montgomery</th>\n",
       "      <td>86.742311</td>\n",
       "      <td>174.231307</td>\n",
       "      <td>133.453008</td>\n",
       "      <td>72.404861</td>\n",
       "      <td>159.067133</td>\n",
       "      <td>103.891852</td>\n",
       "    </tr>\n",
       "    <tr>\n",
       "      <th>Stephanie Blair</th>\n",
       "      <td>71.424165</td>\n",
       "      <td>154.124069</td>\n",
       "      <td>96.496438</td>\n",
       "      <td>88.774551</td>\n",
       "      <td>235.713337</td>\n",
       "      <td>71.110336</td>\n",
       "    </tr>\n",
       "    <tr>\n",
       "      <th>Jessica West</th>\n",
       "      <td>54.828654</td>\n",
       "      <td>167.683452</td>\n",
       "      <td>114.728945</td>\n",
       "      <td>80.581138</td>\n",
       "      <td>198.894022</td>\n",
       "      <td>133.722649</td>\n",
       "    </tr>\n",
       "    <tr>\n",
       "      <th>Darius Mclaughlin</th>\n",
       "      <td>96.681702</td>\n",
       "      <td>186.427668</td>\n",
       "      <td>116.224604</td>\n",
       "      <td>82.478285</td>\n",
       "      <td>229.180317</td>\n",
       "      <td>92.467099</td>\n",
       "    </tr>\n",
       "  </tbody>\n",
       "</table>\n",
       "</div>"
      ],
      "text/plain": [
       "                    Weight (kg)  Height (cm)  Systolic BP (mmHg)  \\\n",
       "Barbara Smith         78.951069   164.287553          134.372108   \n",
       "Regina Price          56.282861   173.873489          123.670167   \n",
       "Katherine Mckinney    59.060707   157.490538          134.639148   \n",
       "Andrea Myers          96.768445   157.257097          110.928195   \n",
       "Christopher Mejia     86.416845   182.141746           92.836150   \n",
       "Tracy Wyatt           84.738820   184.641393          126.729978   \n",
       "Paula Montgomery      86.742311   174.231307          133.453008   \n",
       "Stephanie Blair       71.424165   154.124069           96.496438   \n",
       "Jessica West          54.828654   167.683452          114.728945   \n",
       "Darius Mclaughlin     96.681702   186.427668          116.224604   \n",
       "\n",
       "                    Diastolic BP (mmHg)  Cholesterol (mg/dL)  \\\n",
       "Barbara Smith                 84.300205           166.576669   \n",
       "Regina Price                  67.526000           171.023602   \n",
       "Katherine Mckinney            89.759548           184.364690   \n",
       "Andrea Myers                  65.384320           187.697659   \n",
       "Christopher Mejia             64.170323           222.854768   \n",
       "Tracy Wyatt                   86.837913           240.653306   \n",
       "Paula Montgomery              72.404861           159.067133   \n",
       "Stephanie Blair               88.774551           235.713337   \n",
       "Jessica West                  80.581138           198.894022   \n",
       "Darius Mclaughlin             82.478285           229.180317   \n",
       "\n",
       "                    Blood Sugar (mg/dL)  \n",
       "Barbara Smith                 77.745655  \n",
       "Regina Price                  72.643002  \n",
       "Katherine Mckinney            91.933797  \n",
       "Andrea Myers                  73.784589  \n",
       "Christopher Mejia            134.575080  \n",
       "Tracy Wyatt                  122.622150  \n",
       "Paula Montgomery             103.891852  \n",
       "Stephanie Blair               71.110336  \n",
       "Jessica West                 133.722649  \n",
       "Darius Mclaughlin             92.467099  "
      ]
     },
     "execution_count": 125,
     "metadata": {},
     "output_type": "execute_result"
    }
   ],
   "source": [
    "df"
   ]
  },
  {
   "cell_type": "code",
   "execution_count": 132,
   "id": "a2dcf582",
   "metadata": {},
   "outputs": [
    {
     "name": "stdout",
     "output_type": "stream",
     "text": [
      "ผู้ต้องสงสัยคือ: Christopher Mejia\n"
     ]
    }
   ],
   "source": [
    "name = df[(df['Height (cm)'] > 180) & (df['Cholesterol (mg/dL)'] > 200) & (df['Blood Sugar (mg/dL)'] > 126)].index[0]\n",
    "print(\"ผู้ต้องสงสัยคือ:\", name)"
   ]
  },
  {
   "cell_type": "markdown",
   "id": "4fdf3c62",
   "metadata": {},
   "source": [
    "## โจทย์ข้อที่ 3\n",
    "<b>!!เหตุการณ์ต่อไปนี้เป็นเหตุการณ์สมมติ!!</b>  \n",
    "ในวันหนึ่งได้เกิดสถานการณ์การแพร่ระบาดของเชื้อโรคชนิดหนึ่งขึ้นในประเทศไทย คุณเป็นนักระบาดวิทยาซึ่งต้องสืบเกี่ยวกับแหล่งที่มาของเชื้อโรคชนิดนี้ โดยคุณทราบมาว่าเชื้อโรคชนิดนี้จะสามารถตรวจพบได้หลังจากได้รับเชื้อเป็นเวลาสามวัน\n",
    "\n",
    "คุณได้รับข้อมูลการตรวจเชื้อจากกลุ่มตัวอย่างจำนวน 100 คน จงหาแหล่งที่ของการระบาดครั้งนี้จากข้อมูลดังกล่าวโดยการ Visualization\n",
    "\n",
    "ชุดข้อมูลประกอบด้วย  \n",
    "\n",
    "+ ประวัติการเดินทางย้อนหลัง 7 วัน (วันที่สุ่มตรวจเป็นวันที่ 7)\n",
    "+ ข้อมูลว่าเจ้าของข้อมูลติดเชื้อหรือไม่ (1 = ติดเชื้อ)"
   ]
  },
  {
   "cell_type": "code",
   "execution_count": 1,
   "id": "afb5a74c",
   "metadata": {},
   "outputs": [
    {
     "data": {
      "text/html": [
       "<div>\n",
       "<style scoped>\n",
       "    .dataframe tbody tr th:only-of-type {\n",
       "        vertical-align: middle;\n",
       "    }\n",
       "\n",
       "    .dataframe tbody tr th {\n",
       "        vertical-align: top;\n",
       "    }\n",
       "\n",
       "    .dataframe thead th {\n",
       "        text-align: right;\n",
       "    }\n",
       "</style>\n",
       "<table border=\"1\" class=\"dataframe\">\n",
       "  <thead>\n",
       "    <tr style=\"text-align: right;\">\n",
       "      <th></th>\n",
       "      <th>Day 1</th>\n",
       "      <th>Day 2</th>\n",
       "      <th>Day 3</th>\n",
       "      <th>Day 4</th>\n",
       "      <th>Day 5</th>\n",
       "      <th>Day 6</th>\n",
       "      <th>Day 7</th>\n",
       "      <th>Disease</th>\n",
       "    </tr>\n",
       "  </thead>\n",
       "  <tbody>\n",
       "    <tr>\n",
       "      <th>0</th>\n",
       "      <td>Satun</td>\n",
       "      <td>Phitsanulok</td>\n",
       "      <td>Loei</td>\n",
       "      <td>Mukdahan</td>\n",
       "      <td>Phetchaburi</td>\n",
       "      <td>Trang</td>\n",
       "      <td>Phitsanulok</td>\n",
       "      <td>0.0</td>\n",
       "    </tr>\n",
       "    <tr>\n",
       "      <th>1</th>\n",
       "      <td>Chiang Rai</td>\n",
       "      <td>Phetchaburi</td>\n",
       "      <td>Mukdahan</td>\n",
       "      <td>Phitsanulok</td>\n",
       "      <td>Nakhon Si Thammarat</td>\n",
       "      <td>Mukdahan</td>\n",
       "      <td>Mukdahan</td>\n",
       "      <td>0.0</td>\n",
       "    </tr>\n",
       "    <tr>\n",
       "      <th>2</th>\n",
       "      <td>Pathum Thani</td>\n",
       "      <td>Lopburi</td>\n",
       "      <td>Chiang Rai</td>\n",
       "      <td>Mukdahan</td>\n",
       "      <td>Nakhon Si Thammarat</td>\n",
       "      <td>Chonburi</td>\n",
       "      <td>Buriram</td>\n",
       "      <td>1.0</td>\n",
       "    </tr>\n",
       "    <tr>\n",
       "      <th>3</th>\n",
       "      <td>Chonburi</td>\n",
       "      <td>Phitsanulok</td>\n",
       "      <td>Nakhon Si Thammarat</td>\n",
       "      <td>Trang</td>\n",
       "      <td>Buriram</td>\n",
       "      <td>Trang</td>\n",
       "      <td>Phitsanulok</td>\n",
       "      <td>0.0</td>\n",
       "    </tr>\n",
       "    <tr>\n",
       "      <th>4</th>\n",
       "      <td>Mukdahan</td>\n",
       "      <td>Nakhon Si Thammarat</td>\n",
       "      <td>Nakhon Si Thammarat</td>\n",
       "      <td>Trang</td>\n",
       "      <td>Lopburi</td>\n",
       "      <td>Chonburi</td>\n",
       "      <td>Mukdahan</td>\n",
       "      <td>0.0</td>\n",
       "    </tr>\n",
       "  </tbody>\n",
       "</table>\n",
       "</div>"
      ],
      "text/plain": [
       "          Day 1                Day 2                Day 3        Day 4  \\\n",
       "0         Satun          Phitsanulok                 Loei     Mukdahan   \n",
       "1    Chiang Rai          Phetchaburi             Mukdahan  Phitsanulok   \n",
       "2  Pathum Thani              Lopburi           Chiang Rai     Mukdahan   \n",
       "3      Chonburi          Phitsanulok  Nakhon Si Thammarat        Trang   \n",
       "4      Mukdahan  Nakhon Si Thammarat  Nakhon Si Thammarat        Trang   \n",
       "\n",
       "                 Day 5     Day 6        Day 7  Disease  \n",
       "0          Phetchaburi     Trang  Phitsanulok      0.0  \n",
       "1  Nakhon Si Thammarat  Mukdahan     Mukdahan      0.0  \n",
       "2  Nakhon Si Thammarat  Chonburi      Buriram      1.0  \n",
       "3              Buriram     Trang  Phitsanulok      0.0  \n",
       "4              Lopburi  Chonburi     Mukdahan      0.0  "
      ]
     },
     "execution_count": 1,
     "metadata": {},
     "output_type": "execute_result"
    }
   ],
   "source": [
    "import pandas as pd\n",
    "df = pd.read_csv('Disease_Practice.csv')\n",
    "df.head()"
   ]
  },
  {
   "cell_type": "markdown",
   "id": "2977474c",
   "metadata": {},
   "source": [
    "<b> Problem 3 Solution </b>"
   ]
  },
  {
   "cell_type": "code",
   "execution_count": 2,
   "id": "7ca184eb",
   "metadata": {},
   "outputs": [
    {
     "data": {
      "text/plain": [
       "{'Satun': 4,\n",
       " 'Chiang Rai': 7,\n",
       " 'Pathum Thani': 31,\n",
       " 'Chonburi': 6,\n",
       " 'Mukdahan': 8,\n",
       " 'Phetchaburi': 3,\n",
       " 'Phitsanulok': 9,\n",
       " 'Buriram': 10,\n",
       " 'Nakhon Si Thammarat': 5,\n",
       " 'Loei': 11,\n",
       " 'Trang': 9,\n",
       " 'Lopburi': 9}"
      ]
     },
     "execution_count": 2,
     "metadata": {},
     "output_type": "execute_result"
    }
   ],
   "source": [
    "import numpy as np\n",
    "#แยกเฉพาะข้อมูลของผู้ติดเชื้อออกมา\n",
    "disease = df[df['Disease'] == 1].iloc[:, :4] #เนื่องจากจะสามารถตรวจพบเชื้อได้หลังจากได้รับเป็นเวลาสามวัน จึงสนใจเฉพาะ Day1-4\n",
    "\n",
    "\n",
    "#ตรวจสอบว่ามีสถานที่อะไรบ้างซึ่งอยู่ในประวัติการเดินทางของกลุ่มตัวอย่าง\n",
    "place = {}\n",
    "for col in disease:\n",
    "    for row in df[col]:\n",
    "        if row not in place:\n",
    "            place[row] = 0\n",
    "            \n",
    "#ใส่จำนวนครั้งที่สถานที่นั้นๆมีผู้ติดเชื้อมีประวัติเดินทางไป\n",
    "for i in range(len(disease)): #ดูข้อมูลทีละคน\n",
    "    for key in place: \n",
    "        if np.any(disease.values[i] == key): \n",
    "            place[key] += 1\n",
    "place"
   ]
  },
  {
   "cell_type": "code",
   "execution_count": 3,
   "id": "62fdaf17",
   "metadata": {},
   "outputs": [
    {
     "data": {
      "image/png": "[encoded data removed]",
      "text/plain": [
       "<Figure size 640x480 with 1 Axes>"
      ]
     },
     "metadata": {},
     "output_type": "display_data"
    }
   ],
   "source": [
    "import matplotlib.pyplot as plt\n",
    "\n",
    "\n",
    "#กำหนด label และจำนวน\n",
    "label = list(place.keys())\n",
    "values = list(place.values())\n",
    "\n",
    "# สร้าง colormap\n",
    "cmap = plt.get_cmap('viridis')\n",
    "# กำหนดสีโดยใช้ colormap\n",
    "colors = [cmap(i / len(label)) for i in range(len(label))]\n",
    "\n",
    "# แสดงค่าบนแต่ละแท่ง\n",
    "for index, value in enumerate(values):\n",
    "    plt.text(value, index, str(value))\n",
    "\n",
    "#วาดกราฟ\n",
    "plt.barh(label, values, color = colors)\n",
    "\n",
    "# เพิ่ม labels และ title\n",
    "plt.xlabel('Values')\n",
    "plt.ylabel('Place')\n",
    "plt.title('Horizontal Bar Chart Shows Number of Times the Infected Person has been to each Location')\n",
    "\n",
    "plt.show()"
   ]
  },
  {
   "cell_type": "code",
   "execution_count": 4,
   "id": "7f3ab69f",
   "metadata": {},
   "outputs": [
    {
     "name": "stdout",
     "output_type": "stream",
     "text": [
      "สถานที่ที่มีโอกาสเป็นแหล่งแพร่เชื้อมากที่สุดคือปทุมธานี\n"
     ]
    }
   ],
   "source": [
    "print(\"สถานที่ที่มีโอกาสเป็นแหล่งแพร่เชื้อมากที่สุดคือปทุมธานี\")"
   ]
  },
  {
   "cell_type": "code",
   "execution_count": null,
   "id": "cefe41ac",
   "metadata": {},
   "outputs": [],
   "source": []
  }
 ],
 "metadata": {
  "kernelspec": {
   "display_name": "Python 3 (ipykernel)",
   "language": "python",
   "name": "python3"
  },
  "language_info": {
   "codemirror_mode": {
    "name": "ipython",
    "version": 3
   },
   "file_extension": ".py",
   "mimetype": "text/x-python",
   "name": "python",
   "nbconvert_exporter": "python",
   "pygments_lexer": "ipython3",
   "version": "3.11.5"
  }
 },
 "nbformat": 4,
 "nbformat_minor": 5
}
