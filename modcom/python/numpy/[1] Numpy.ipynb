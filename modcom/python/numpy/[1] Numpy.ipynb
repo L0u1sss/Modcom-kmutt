{
 "cells": [
  {
   "cell_type": "markdown",
   "id": "d300f9c2",
   "metadata": {},
   "source": [
    "# Basic Python with Numpy"
   ]
  },
  {
   "cell_type": "markdown",
   "id": "ddc2510b",
   "metadata": {},
   "source": [
    "## NumPy Library"
   ]
  },
  {
   "cell_type": "markdown",
   "id": "0f8a6d54",
   "metadata": {},
   "source": [
    "NumPy (Numerical Python) เป็นโมดูลส่วนเสริมแบบ open source ของ Python ซึ่งมีฟังก์ชันเกี่ยวกับคณิตศาสตร์และการคำนวณต่างๆ นอกจากนั้น NumPy ยังรองรับการประมวลผลข้อมูลประเภท Array สำหรับการคำนวณข้อมูลทางสถิติ(Statistic) และยังรองรับการคำนวณที่เกี่ยวกับข้องกับหลักการ เมทริกซ์(Matrix) เช่น สมการเชิงเส้น (Linear Algebra)"
   ]
  },
  {
   "cell_type": "markdown",
   "id": "24ef91a2",
   "metadata": {},
   "source": [
    "ทำไมเราต้องเรียนรู้ที่จะใช้ NumPy?\n",
    "> NumPy นั้นทำให้เราสามารถทำงานกับข้อมูลประเภท Array ได้ไวมากกว่า List ดั้งเดิมของ Python ซึ่งมาจากการที่ NumPy ถูกเขียนขึ้นด้วยสถาปัตยกรรมทางคอมพิมเตอร์ที่เหมาะสำหรับการจัดการข้อมูลประเภท Array ที่ดีกว่า"
   ]
  },
  {
   "cell_type": "markdown",
   "id": "4b4da34d",
   "metadata": {},
   "source": [
    "## สารบัญ\n",
    "- [1) import NumPy Library](#import)\n",
    "- [2) NumPy Array](#array)\n",
    "- [3) Operations](#operation)\n",
    "- [4) การเข้าถึงข้อมูลภายใน NumPy Array](#getitem)\n",
    "- [5) Array Slicing](#slicing)\n",
    "- [6) การค้นหา Index ของสิ่งที่เราต้องการ](#index)\n",
    "- [7) การจัดการและปรับเปลี่ยน Array ด้วย NumPy](#stack)\n",
    "- [8) การใช้ NumPy เพื่อ Random ข้อมูล](#random)\n",
    "- [9) การใช้ NumPy เพื่อคำนวณค่าสถิติ](#state)\n",
    "- [10) ส่วนเสริมการใช้ NumPy](#extension)"
   ]
  },
  {
   "cell_type": "markdown",
   "id": "3a71669a",
   "metadata": {},
   "source": [
    "### 1. import NumPy Library<a id=\"import\"></a>\n",
    "ทำการ import NumPy เข้ามาในตัวแปร np เพื่อให้ง่ายต่อการใช้งาน"
   ]
  },
  {
   "cell_type": "code",
   "execution_count": null,
   "id": "0be45690",
   "metadata": {},
   "outputs": [],
   "source": [
    "import numpy as np"
   ]
  },
  {
   "cell_type": "markdown",
   "id": "cd4a3179",
   "metadata": {},
   "source": [
    "### 2. NumPy Array<a id=\"array\"></a>"
   ]
  },
  {
   "cell_type": "markdown",
   "id": "f31f88e9",
   "metadata": {},
   "source": [
    "**1-Dimensional NumPy Array**"
   ]
  },
  {
   "cell_type": "code",
   "execution_count": null,
   "id": "13a3a480",
   "metadata": {},
   "outputs": [],
   "source": [
    "#สร้าง list ตามปกติ\n",
    "original_list = ['a', 'b', 'c', 'd']\n",
    "\n",
    "#ใช้คำสั่งภายใน NumPy ชื่อว่า array() โดยภายใน () จะรองรับตัวแปรที่เก็บ List ไว้ หรือใส่ List เข้าไปเราจะได้ผลลัพธ์ออกมาเป็น NumPy Array\n",
    "numpy_list = np.array(original_list)\n",
    "print(numpy_list, type(numpy_list))"
   ]
  },
  {
   "cell_type": "code",
   "execution_count": null,
   "id": "4c4291ca",
   "metadata": {},
   "outputs": [],
   "source": [
    "#สามารถใส่ list เข้าไปใน () ได้เลยโดยไม่จำเป็นต้องสร้างตัวแปรเพื่อเก็บ list \n",
    "numpy_list = np.array(['a', 'b', 'c', 'd'])\n",
    "print(numpy_list)"
   ]
  },
  {
   "cell_type": "markdown",
   "id": "cda54c9d",
   "metadata": {},
   "source": [
    "**Creating arrays arange**  \n",
    "NumPy มีคำสั่งในการสร้าง Array ของตัวเลขโดยใช้คำสั่ง arange(start, end, step) โดย\n",
    "- start ตัวเลขเริ่มต้น\n",
    "- end ตัวเลขสุดท้ายโดยไม่นับตัวเอง\n",
    "- step ขนาดก้าวในการไล่เลขขึ้นไปจาก start ไปถึง end"
   ]
  },
  {
   "cell_type": "code",
   "execution_count": null,
   "id": "a35e875d",
   "metadata": {},
   "outputs": [],
   "source": [
    "x = np.arange(10)\n",
    "print(x)"
   ]
  },
  {
   "cell_type": "code",
   "execution_count": null,
   "id": "9d8dae08",
   "metadata": {},
   "outputs": [],
   "source": [
    "y = np.arange(5, 20)\n",
    "print(y)"
   ]
  },
  {
   "cell_type": "code",
   "execution_count": null,
   "id": "73a2af23",
   "metadata": {},
   "outputs": [],
   "source": [
    "z = np.arange(0, 10, 2)\n",
    "print(z)"
   ]
  },
  {
   "cell_type": "markdown",
   "id": "f44244ee",
   "metadata": {},
   "source": [
    "**Creating ones and zeros arrays**  \n",
    "ในการสร้างข้อมูลเราสามารถใช้คำสั่ง np.zeros() และ np.ones() เพื่อสร้างชุดข้อมูลขึ้นมาได้\n",
    "- np.zeros() จะเป็นการสร้างข้อมูลขึ้นมาจำนวนตาม ตัวเลข หรือ shape ที่ใส่เข้าไปในวงเล็บ โดยค่าทั้งหมดจะเป็น 0\n",
    "- np.ones() จะเป็นการสร้างข้อมูลขึ้นมาจำนวนตาม ตัวเลข หรือ shape ที่ใส่เข้าไปในวงเล็บ โดยค่าทั้งหมดจะเป็น 1"
   ]
  },
  {
   "cell_type": "code",
   "execution_count": null,
   "id": "f6bd407d",
   "metadata": {
    "scrolled": true
   },
   "outputs": [],
   "source": [
    "np.zeros((2, 4))"
   ]
  },
  {
   "cell_type": "code",
   "execution_count": null,
   "id": "ce1b6c64",
   "metadata": {},
   "outputs": [],
   "source": [
    "np.ones((3, 2))"
   ]
  },
  {
   "cell_type": "markdown",
   "id": "3f8202d0",
   "metadata": {},
   "source": [
    "**2-Dimensional NumPy Array**  \n",
    "ข้อมูลประเภท List นั้นสามารถซ้อนกันได้เราเรียกว่า Multi-Dimensional List ซึ่งโดยปกติที่เราจะพบเจอได้บ่อยในรูปแบบของข้อมูลคือ 2-dimensional List"
   ]
  },
  {
   "cell_type": "code",
   "execution_count": null,
   "id": "1b7a17b9",
   "metadata": {},
   "outputs": [],
   "source": [
    "#สร้าง list ตามปกติ\n",
    "original_2d_list = [[1, 2, 3, 4], [5, 6, 7, 8], [9, 10, 11, 12]]\n",
    "\n",
    "#แปลงเป็น NumPy array\n",
    "numpy_2d_list = np.array(original_2d_list)"
   ]
  },
  {
   "cell_type": "markdown",
   "id": "c8380511",
   "metadata": {},
   "source": [
    "เปรียบเทียบการแสดงผลระหว่าง list กับ NumPy Array"
   ]
  },
  {
   "cell_type": "code",
   "execution_count": null,
   "id": "cda4fa51",
   "metadata": {},
   "outputs": [],
   "source": [
    "print(\"Original list print layout:\")\n",
    "print(original_2d_list)\n",
    "print(\"\\n\")\n",
    "print(\"NumPy Array print layout:\")\n",
    "print(numpy_2d_list)"
   ]
  },
  {
   "cell_type": "markdown",
   "id": "50eeea8d",
   "metadata": {},
   "source": [
    "การตรวจสอบจำนวนและขนาดของมิติสามารถทำได้โดยใช้คำสั่ง .ndim เข้าไปด้านหลังเพื่อตรวจสอบจำนวนมิติและใช้คำสั่ง .shape เข้าไปด้านหลังเพื่อตรวจสอบขนาด"
   ]
  },
  {
   "cell_type": "code",
   "execution_count": null,
   "id": "e98ad685",
   "metadata": {},
   "outputs": [],
   "source": [
    "print(\"Number of Dimensions: \", numpy_list.ndim)\n",
    "print(\"Number of Dimensions: \", numpy_2d_list.ndim)"
   ]
  },
  {
   "cell_type": "code",
   "execution_count": null,
   "id": "a1d7a4e7",
   "metadata": {},
   "outputs": [],
   "source": [
    "print(\"Dimensions: \", numpy_list.shape)\n",
    "print(\"Dimensions: \", numpy_2d_list.shape)"
   ]
  },
  {
   "cell_type": "code",
   "execution_count": null,
   "id": "06110c7e",
   "metadata": {},
   "outputs": [],
   "source": [
    "numpy_3d_list = np.array([[[111,112],[121,122]],\n",
    "                          [[211,212],[221,222]],\n",
    "                          [[311,312],[321,322]]])\n",
    "print(numpy_3d_list)\n",
    "print(\"Number of Dimensions: \", numpy_3d_list.ndim)\n",
    "print(\"Dimensions: \", numpy_3d_list.shape)"
   ]
  },
  {
   "cell_type": "markdown",
   "id": "cabfffbb",
   "metadata": {},
   "source": [
    "### 3. Operations<a id=\"operation\"></a>"
   ]
  },
  {
   "cell_type": "markdown",
   "id": "b0962fa7",
   "metadata": {},
   "source": [
    "**Numerical operations on NumPy array**"
   ]
  },
  {
   "cell_type": "code",
   "execution_count": null,
   "id": "cf2581e0",
   "metadata": {},
   "outputs": [],
   "source": [
    "lst = [1,2,5,10]\n",
    "v = np.array(lst)\n",
    "v = v + 2\n",
    "print(v)"
   ]
  },
  {
   "cell_type": "code",
   "execution_count": null,
   "id": "68b79d3a",
   "metadata": {},
   "outputs": [],
   "source": [
    "print(v * 2.2)"
   ]
  },
  {
   "cell_type": "code",
   "execution_count": null,
   "id": "dd16f3dc",
   "metadata": {},
   "outputs": [],
   "source": [
    "print(v - 1.38)"
   ]
  },
  {
   "cell_type": "code",
   "execution_count": null,
   "id": "8bea4fb7",
   "metadata": {},
   "outputs": [],
   "source": [
    "print(v ** 2)"
   ]
  },
  {
   "cell_type": "markdown",
   "id": "2cfc85b3",
   "metadata": {},
   "source": [
    "**Arithmetic operations with two arrays**"
   ]
  },
  {
   "cell_type": "code",
   "execution_count": null,
   "id": "b81b29a5",
   "metadata": {},
   "outputs": [],
   "source": [
    "A = np.array([[11, 12, 13],\n",
    "              [21, 22, 23],\n",
    "              [31, 32, 33]])\n",
    "B = np.ones((3,3))\n",
    "print(\"Adding to arrays:\")\n",
    "print(A + B)"
   ]
  },
  {
   "cell_type": "code",
   "execution_count": null,
   "id": "9bebd22c",
   "metadata": {},
   "outputs": [],
   "source": [
    "print(\"Multiplying two arrays:\")\n",
    "print(A * (B + 1))"
   ]
  },
  {
   "cell_type": "markdown",
   "id": "ffc630ae",
   "metadata": {},
   "source": [
    "**dot product**  \n",
    "สำหรับ 1-D arrays นั้น dot product จะถูกคำนวณเป็น vector dot product ในขณะที่ 2-D arrays นั้นจะถูกคำนวณเป็น matrix multiplication"
   ]
  },
  {
   "cell_type": "code",
   "execution_count": null,
   "id": "d26c500f",
   "metadata": {},
   "outputs": [],
   "source": [
    "# For 1-D arrays, dot product is computed as vector dot product\n",
    "x = np.array([3, -2])\n",
    "y = np.array([-4, 1])\n",
    "print(np.dot(x,y))"
   ]
  },
  {
   "cell_type": "code",
   "execution_count": null,
   "id": "e40103b4",
   "metadata": {},
   "outputs": [],
   "source": [
    "# For 2-D arrays, dot product is computed as matrix multiplication\n",
    "A = np.array([[1, 2, 3],\n",
    "              [3, 2, 1]])\n",
    "B = np.array([[2, 3],\n",
    "              [1, -1],\n",
    "              [1, 2]])\n",
    "print(np.dot(A,B))"
   ]
  },
  {
   "cell_type": "markdown",
   "id": "2780ebb3",
   "metadata": {},
   "source": [
    "**Comparison operator**"
   ]
  },
  {
   "cell_type": "code",
   "execution_count": null,
   "id": "db04f173",
   "metadata": {},
   "outputs": [],
   "source": [
    "A = np.array([[11, 12, 13],\n",
    "              [21, 22, 23],\n",
    "              [31, 32, 33]])\n",
    "B = np.array([[11, 102, 13],\n",
    "              [201, 22, 203],\n",
    "              [31, 32, 303]])\n",
    "A == B"
   ]
  },
  {
   "cell_type": "code",
   "execution_count": null,
   "id": "3a30858a",
   "metadata": {},
   "outputs": [],
   "source": [
    "print(np.array_equal(A, B))"
   ]
  },
  {
   "cell_type": "code",
   "execution_count": null,
   "id": "66433a50",
   "metadata": {},
   "outputs": [],
   "source": [
    "print(np.array_equal(A, A))"
   ]
  },
  {
   "cell_type": "markdown",
   "id": "27edd601",
   "metadata": {},
   "source": [
    "**Broadcasting**  \n",
    "Broadcasting เป็นกลไกที่ทำให้การดำเนินการระหว่าง array ที่มีรูปร่าง (shape) ต่างกันสามารถทำได้โดยไม่ต้องสร้างสำเนาของข้อมูลที่มีขนาดเท่ากันก่อนดำเนินการ Broadcasting ทำให้ NumPy สามารถดำเนินการกับอาร์เรย์ที่มีขนาดแตกต่างกันได้โดยการขยาย array ที่เล็กกว่าให้มีขนาดเท่ากับ array ที่ใหญ่กว่า"
   ]
  },
  {
   "cell_type": "code",
   "execution_count": null,
   "id": "ad769816",
   "metadata": {},
   "outputs": [],
   "source": [
    "B = np.array([1, 2, 3])\n",
    "print(\"Multiplication with broadcasting: \")\n",
    "print(A*B)"
   ]
  },
  {
   "cell_type": "code",
   "execution_count": null,
   "id": "6db3d4f1",
   "metadata": {},
   "outputs": [],
   "source": [
    "print(\"... and now addition with broadcasting: \")\n",
    "print(A+B)"
   ]
  },
  {
   "cell_type": "markdown",
   "id": "0e223bba",
   "metadata": {},
   "source": [
    "### 4. การเข้าถึงข้อมูลภายใน NumPy Array<a id=\"getitem\"><a/>\n",
    "> การเข้าถึงข้อมูลก็ยังคงใช้ Index อยู่เหมือนเดิมเหมือนกับใน List ปกติ แต่จะมีตัวเลือกของรูปแบบการเขียน Index ที่เพิ่มขึ้นมา"
   ]
  },
  {
   "cell_type": "code",
   "execution_count": null,
   "id": "34f9a2da",
   "metadata": {},
   "outputs": [],
   "source": [
    "numpy_2d_list = np.array([[1, 2, 3, 4], \n",
    "                          [5, 6, 7, 8],\n",
    "                          [9, 10, 11, 12]])"
   ]
  },
  {
   "cell_type": "code",
   "execution_count": null,
   "id": "72a175f6",
   "metadata": {},
   "outputs": [],
   "source": [
    "print('The first sublist in numpy_2d_list is {}'.format(numpy_2d_list[0]))\n",
    "print('The second sublist in numpy_2d_list is {}'.format(numpy_2d_list[1]))"
   ]
  },
  {
   "cell_type": "code",
   "execution_count": null,
   "id": "9def0ad9",
   "metadata": {},
   "outputs": [],
   "source": [
    "#นอกจากนั้นความพิเศษของ NumPy Array เรายังสามารถระบุ Index ของข้อมูลที่เราต้องการเป็น List ได้\n",
    "interested_sublist_index = [0,1]\n",
    "print('The first and second sublists in numpy_2d_list are \\n{}'.format(numpy_2d_list[interested_sublist_index]))"
   ]
  },
  {
   "cell_type": "markdown",
   "id": "322183fb",
   "metadata": {},
   "source": [
    "จะสังเกตได้ว่าเราสามารถใช้ syntax ต่างๆได้เหมือนกับการใช้ List ปกติ อย่างไรก็ตามเมื่อเราระบุ Dimension ที่มากขึ้นเราจะมีทางเลือกในรูปแบบเขียนที่เพิ่มขึ้นเมื่อใช้ NumPy\n",
    "\n",
    "ตัวอย่าง: เราต้องการนำค่า 5 ออกมากจาก numpy_2d_list โดยเรารู้ว่า 5 นั้นอยู่ใน index ที่ [1][0]"
   ]
  },
  {
   "cell_type": "code",
   "execution_count": null,
   "id": "ef2e339c",
   "metadata": {},
   "outputs": [],
   "source": [
    "#รูปแบบที่1 เหมือนกับการใช้ List ปกติโดยการระบุ Index เป็นสอง []\n",
    "print(\"The result of 1st style:\", numpy_2d_list[1][0])\n",
    "\n",
    "#รูปแบบที่2 แทนที่จะระบุ Index เป็นสอง [] เราสามารถใช้เครื่องหมาย comma(,) เข้ามาแทนที่จะมีสองวงเล็บ\n",
    "print(\"The result of 2nd style:\", numpy_2d_list[1,0]) "
   ]
  },
  {
   "attachments": {
    "slicing.png": {
     "image/png": "[encoded data removed]"
    }
   },
   "cell_type": "markdown",
   "id": "bfb42477",
   "metadata": {},
   "source": [
    "### 5. Array Slicing<a id=\"slicing\"></a>\n",
    "Array Slicing จะคล้ายกับการเข้าถึงข้อมูลภายใน NumPy Array แต่การ Slicing จะเป็นการนำข้อมูลออกมาเป็นส่วนๆจาก NumPy Array\n",
    "\n",
    "![slicing.png](attachment:slicing.png)"
   ]
  },
  {
   "cell_type": "markdown",
   "id": "a1572ed6",
   "metadata": {},
   "source": [
    "การทำ Array Slicing เราสามารถทำได้โดยการใช้เครื่องหมาย : ภายใน [] ที่เติม index ตามปกติ แล้วกำหนดว่าเราต้องการค่าเริ่มต้นที่ index ไหนแล้วไปจบที่ index ไหน หลังจากนั้นนำค่า index ทั้งสองไปใส่ไว้ด้านหน้าเและหลังครื่องหมาย :"
   ]
  },
  {
   "attachments": {
    "slicing_output.PNG": {
     "image/png": "[encoded data removed]"
    }
   },
   "cell_type": "markdown",
   "id": "bda8b50e",
   "metadata": {},
   "source": [
    "<b>ตัวอย่าง: การทำ Array Slicing จาก example_2d โดยต้องการ output เป็น </b>\n",
    "![slicing_output.PNG](attachment:slicing_output.PNG)"
   ]
  },
  {
   "attachments": {
    "slicing_1st.PNG": {
     "image/png": "[encoded data removed]"
    }
   },
   "cell_type": "markdown",
   "id": "0707e677",
   "metadata": {},
   "source": [
    "มุมมองการคิดเพื่อ Slicing\n",
    "\n",
    "![slicing_1st.PNG](attachment:slicing_1st.PNG)\n",
    "\n",
    "NOTE: Column เป็นแถวแนวตั้ง และ Row เป็นแถวแนวนอน"
   ]
  },
  {
   "attachments": {
    "slicing_2nd.PNG": {
     "image/png": "[encoded data removed]"
    }
   },
   "cell_type": "markdown",
   "id": "ec2a1d77",
   "metadata": {},
   "source": [
    "สิ่งที่เรารู้\n",
    "+ 1) 1 และ 2 อยู่ในชุดข้อมูลย่อยที่ 1 ซึ่งเป็น row ที่ 0 -> เราต้องใช้ชุดข้อมูลย่อยที่1 ที่ระบุ index เป็น 0\n",
    "+ 2) 4 และ 5 อยู่ในชุดข้อมูลย่อยที่ 2 ซึ่งเป็น row ที่ 1 -> เราต้องใช้ชุดข้อมูลย่อยที่2 ที่ระบุ index เป็น 1\n",
    "\n",
    "> จากข้อมูลช่วงนี้เราสามารถทำการจำกัดวงได้ว่าเราต้องระบุ index ของ row(แถวแนวนอน) เป็น [0:2] โดยผลลัพธ์ที่จะได้คือ\n",
    "![slicing_2nd.PNG](attachment:slicing_2nd.PNG)"
   ]
  },
  {
   "attachments": {
    "slicing_3rd.PNG": {
     "image/png": "[encoded data removed]"
    }
   },
   "cell_type": "markdown",
   "id": "ea36c4ea",
   "metadata": {},
   "source": [
    "+ 3) 1 และ 4 อยู่ใน column ที่ 0 เหมือนกัน -> เราต้องใช้ชุดข้อมูลย่อยที่1 ที่ระบุ index เป็น 0\n",
    "+ 4) 2 และ 5 อยู่ใน column ที่ 1 เหมือนกัน -> เราต้องใช้ชุดข้อมูลย่อยที่2 ที่ระบุ index เป็น 1\n",
    "\n",
    "> จากข้อมูลช่วงนี้เราสามารถทำการจำกัดวงได้ว่าเราต้องระบุ index ของ column(แถวแนวตั้ง) เป็น [0:2] โดยผลลัพธ์ที่จะได้คือ\n",
    "![slicing_3rd.PNG](attachment:slicing_3rd.PNG)"
   ]
  },
  {
   "attachments": {
    "slicing_4th.PNG": {
     "image/png": "[encoded data removed]"
    }
   },
   "cell_type": "markdown",
   "id": "7574cef6",
   "metadata": {},
   "source": [
    "+ 5) สุดท้ายเมื่อเรานำข้อมูลตั้งแต่ข้อ 1-4 มารวมกันเราจะได้เป็น index ของ [0:2,0:2] โดย 0:2 ตัวแรกจะเป็นการระบุ Row เนื่องจาก Row จะระบุชุดข้อมูลย่อยที่อยู่ครอบตัวของ Column ดังนั้น 0:2 ตัวต่อมาจะเป็นตัวระบุ Column แล้วได้ผลลัพธ์ดังรูป\n",
    "> ![slicing_4th.PNG](attachment:slicing_4th.PNG)"
   ]
  },
  {
   "cell_type": "code",
   "execution_count": null,
   "id": "3681ba8b",
   "metadata": {},
   "outputs": [],
   "source": [
    "example_2d = np.array([[1,2,3],\n",
    "                       [4,5,6],\n",
    "                       [7,8,9]])"
   ]
  },
  {
   "cell_type": "code",
   "execution_count": null,
   "id": "5443b211",
   "metadata": {},
   "outputs": [],
   "source": [
    "#ทำการเขียน Array Slicing โดย 0:2 ตัวแรกระบุช่วง Row ที่อยากได้ และ 0:2 ระบุ column ที่อยากได้\n",
    "print(example_2d[0:2, 0:2])"
   ]
  },
  {
   "cell_type": "markdown",
   "id": "5bf0e020",
   "metadata": {},
   "source": [
    "### 6. การค้นหา Index ของสิ่งที่เราต้องการ<a id=\"index\"></a>\n",
    "NumPy มีความาสามารถในการหา Index ของสิ่งที่เราต้องการภายใน list หรือ NumPy Array ได้โดยใช้คำสั่ง np.where() โดยภายใน () ให้เติม เงื่อนไขที่เราต้องการลงไป"
   ]
  },
  {
   "cell_type": "markdown",
   "id": "92b23c60",
   "metadata": {},
   "source": [
    "<b>ตัวอย่าง: ต้องการหาตัวเลขภายใน NumPy Array ที่เป็นเลขคี่</b>"
   ]
  },
  {
   "cell_type": "code",
   "execution_count": null,
   "id": "d790c266",
   "metadata": {},
   "outputs": [],
   "source": [
    "ex_data = np.arange(13)\n",
    "print(ex_data)"
   ]
  },
  {
   "cell_type": "markdown",
   "id": "8868089a",
   "metadata": {},
   "source": [
    "ทำการหา index ที่มีค่าเป็นเลขคี่โดยการตั้งเงื่อนไข ว่าถ้าหาร 2 แล้วเหลือเศษ 1 แสดงว่าเป็นเลขคี่"
   ]
  },
  {
   "cell_type": "code",
   "execution_count": null,
   "id": "7c8aa0d9",
   "metadata": {},
   "outputs": [],
   "source": [
    "odd_index = np.where(ex_data%2 == 1)\n",
    "print(\"List of Index where they are odd numbers:\", odd_index)"
   ]
  },
  {
   "cell_type": "markdown",
   "id": "04a8fcf6",
   "metadata": {},
   "source": [
    "นำ Index ที่ได้มาจากการหาเลขคี่มาแทนใน NumPy Array ของข้อมูลตั้งต้นเพื่อแสดงว่าเลขคี่ที่หามาได้ภายใน ex_data มีอะไรบ้าง"
   ]
  },
  {
   "cell_type": "code",
   "execution_count": null,
   "id": "f4524024",
   "metadata": {},
   "outputs": [],
   "source": [
    "print(ex_data[odd_index])"
   ]
  },
  {
   "cell_type": "markdown",
   "id": "f822b478",
   "metadata": {},
   "source": [
    "#### TIPS: นอกจากการใช้ np.where() เพื่อหา Index เรายังสามารถใช้ List ของ Boolean ในการเลือกของตามเงื่อนไขได้เช่นกัน\n",
    "> เราต้องมี List ของ Boolean ที่มีขนาดเท่ากับ NumPy Array ที่เราต้องการเลือกของด้านใน โดยเมื่อทำการโยงข้อมูลตาม Index ของทั้ง NumPy Array และ List ถ้า Boolean เป็น True แปลว่าเราจะเลือกให้ข้อมูลนั้นยังคงอยู่ภายใน NumPy Array ที่เราต้องการเลือกของ ถ้าเป็น False โปรแกรมจะนำข้อมูลนั้นออกไป"
   ]
  },
  {
   "cell_type": "code",
   "execution_count": null,
   "id": "4646a207",
   "metadata": {},
   "outputs": [],
   "source": [
    "conditions = ex_data%2 == 1\n",
    "print('Conditions:', conditions)"
   ]
  },
  {
   "cell_type": "markdown",
   "id": "d4cda40d",
   "metadata": {},
   "source": [
    "หลังจากที่เราได้ List ของ Boolean ของเลขถายใน ex_data ที่เป็นเลขคี่ เราสามารถนำ List นั้นไปเติมได้เลย"
   ]
  },
  {
   "cell_type": "code",
   "execution_count": null,
   "id": "030625e3",
   "metadata": {},
   "outputs": [],
   "source": [
    "print(ex_data[conditions])"
   ]
  },
  {
   "cell_type": "markdown",
   "id": "b3f043bd",
   "metadata": {},
   "source": [
    "### 7. การจัดการและปรับเปลี่ยน Array ด้วย NumPy<a id=\"stack\"></a>"
   ]
  },
  {
   "cell_type": "markdown",
   "id": "4679de09",
   "metadata": {},
   "source": [
    "#### การต่อ Array เข้าด้วยกันด้วย NumPy\n",
    "ในกรณีถ้าเรามี List หรือ NumPy Array สองอันขึ้นไปแล้วต้องการจะนำข้อมูลนั้นๆมาต่อกันเราสามารถใช้ function ต่างๆของ NumPy เข้ามาช่วยได้ โดยภายใน () ให้เติม list ของ list ที่ต้องการจะนำข้อมูลมารวมหรือต่อกัน"
   ]
  },
  {
   "cell_type": "code",
   "execution_count": null,
   "id": "547b1c48",
   "metadata": {},
   "outputs": [],
   "source": [
    "A = np.arange(1, 5)\n",
    "B = np.arange(5, 9)\n",
    "print('First mocking data:', A)\n",
    "print('Second mocking data:', B)"
   ]
  },
  {
   "cell_type": "markdown",
   "id": "2df9318b",
   "metadata": {},
   "source": [
    "hstack นั้นจะเป็นการนำข้อมูลมาต่อกันทางแนวนอน(horizontal)"
   ]
  },
  {
   "cell_type": "code",
   "execution_count": null,
   "id": "bccb6c5b",
   "metadata": {},
   "outputs": [],
   "source": [
    "np.hstack((A, B))"
   ]
  },
  {
   "cell_type": "markdown",
   "id": "0b9b5d4d",
   "metadata": {},
   "source": [
    "vstack นั้นจะเป็นการนำข้อมูลมาต่อกันทางแนวตั้ง(verticle)"
   ]
  },
  {
   "cell_type": "code",
   "execution_count": null,
   "id": "0e8d078d",
   "metadata": {},
   "outputs": [],
   "source": [
    "np.vstack((A, B))"
   ]
  },
  {
   "cell_type": "markdown",
   "id": "b7b3e1c9",
   "metadata": {},
   "source": [
    "#### การ reshape NumPy Array\n",
    "การ Reshape จะเป็นการปรับรูปร่างของ Array ตั้งต้นเป็นตามที่กำหนด"
   ]
  },
  {
   "attachments": {
    "reshape.PNG": {
     "image/png": "[encoded data removed]"
    }
   },
   "cell_type": "markdown",
   "id": "a0148d96",
   "metadata": {},
   "source": [
    "#### ตัวอย่าง: เปลี่ยน [1, 2, 3, 4, 5, 6, 7, 8, 9, 10, 11, 12] เป็น NumPy Array ที่มีรูปร่าง (3,4) หรือ มี 3 rows และ 4 columns\n",
    "![reshape.PNG](attachment:reshape.PNG)"
   ]
  },
  {
   "cell_type": "code",
   "execution_count": null,
   "id": "5b863bb0",
   "metadata": {},
   "outputs": [],
   "source": [
    "A = np.arange(1, 13)\n",
    "print(A)"
   ]
  },
  {
   "cell_type": "markdown",
   "id": "5c51875d",
   "metadata": {},
   "source": [
    "โดยการจะ reshape ตัวของ NumPy Array เราสามารถใช้คำสั่ง .reshape() ตามตัวแปรที่เก็บ NumPy Array ไว้โดยภายใน () ให้ใส่ shape ที่เราต้องการเปลี่ยนให้ NumPy Array นั้นๆมี shape แบบนั้น"
   ]
  },
  {
   "cell_type": "code",
   "execution_count": null,
   "id": "f8fb9b98",
   "metadata": {
    "scrolled": true
   },
   "outputs": [],
   "source": [
    "A.reshape(3, 4) #ในที่นี้เราต้องการ NumPy Array ที่มี 3 row และ 4 column"
   ]
  },
  {
   "cell_type": "markdown",
   "id": "2d6dd459",
   "metadata": {},
   "source": [
    "#### Note: NumPy ยังมีตัวเลือกในการจัดการ Array ต่างๆอีกมากมายสามารถสำรวจเพิ่มเติมได้ที่ \n",
    "https://numpy.org/doc/stable/reference/routines.array-manipulation.html"
   ]
  },
  {
   "cell_type": "markdown",
   "id": "08b9dd19",
   "metadata": {},
   "source": [
    "### 8. การใช้ NumPy เพื่อ Random ข้อมูล<a id=\"random\"></a>\n",
    "NumPy ความสามารถในการสุ่มเลขขี้นมาโดยมี่หลากหลายแบบที่เราสามารถเลือกใช้ได้ โดยเมื่อจะเรียกใช้ความเครื่องมือในการสุ่มเลขนั้นจะต้องเรียนก np.random ออกมาก่อนถึงจะสามารถใช้การสุ่มแบบเฉพาะได้"
   ]
  },
  {
   "cell_type": "markdown",
   "id": "0b87fe63",
   "metadata": {},
   "source": [
    ".rand() จะเป็นการสุ่มเลขตั้งแต่ 0 ถึง 1 โดยเลขที่เติมไปใน () จะเป็น shape ของข้อมูลที่เราต้องการ"
   ]
  },
  {
   "cell_type": "code",
   "execution_count": null,
   "id": "5fe792d7",
   "metadata": {},
   "outputs": [],
   "source": [
    "np.random.rand(5,5)"
   ]
  },
  {
   "cell_type": "markdown",
   "id": "d1e5bb18",
   "metadata": {},
   "source": [
    ".randint(low, high=None, size=None, dtype=int) จะเป็นการสุ่มเลขจำนวนเต็ม โดย\n",
    "- low จำนวนเต็มที่มีค่าน้อยที่สุดที่เป็นไปได้\n",
    "- high จำนวนเต็มที่มีค่ามากที่สุดที่เป็นไปได้ แต่ไม่รวมตัวเอง\n",
    "- size เลขที่เติมสามารถเป็นจำนวนเต็มระบุจำนวนตัวเลขที่ต้องการ หรือ สามารถใส่เป็น shape ของข้อมูลที่เราต้องการได้เลย  \n",
    "\n",
    "ซึ่งหาก high=None จะทำการสุ่มจำนวนเต็มจาก [0, low)"
   ]
  },
  {
   "cell_type": "code",
   "execution_count": null,
   "id": "6c2e9505",
   "metadata": {},
   "outputs": [],
   "source": [
    "np.random.randint(3, 6, size=100)"
   ]
  },
  {
   "cell_type": "markdown",
   "id": "2e1b9512",
   "metadata": {},
   "source": [
    ".normal(loc=0.0, scale=1.0, size=None) จะเป็นการสุ่มเลขที่ชุดข้อมูลจะออกมาเป็น Normal Distribution(การแจกแจงแบบปกติ)\n",
    "- loc คือค่า Mean\n",
    "- scale คือค่า Standard Deviation\n",
    "- size เลขที่เติมสามารถเป็นจำนวนเต็มระบุจำนวนตัวเลขที่ต้องการ หรือ สามารถใส่เป็น shape ของข้อมูลที่เราต้องการได้เลย"
   ]
  },
  {
   "cell_type": "code",
   "execution_count": null,
   "id": "f443c96c",
   "metadata": {},
   "outputs": [],
   "source": [
    "np.random.normal(loc = 2, scale = 5, size=(3, 5))"
   ]
  },
  {
   "cell_type": "markdown",
   "id": "9fe5619b",
   "metadata": {},
   "source": [
    ".choice(a, size=None, replace=True, p=None) จะเป็นการสุ่มจากตัวเลือกที่เราให้ไป\n",
    "- a ตือ list ของข้อมูลที่ต้องการจะสุ่มออกมา\n",
    "- size เลขที่เติมสามารถเป็นจำนวนเต็มระบุจำนวนตัวเลขที่ต้องการ หรือ สามารถใส่เป็น shape ของข้อมูลที่เราต้องการได้เลย\n",
    "- replace ต้องการให้สามารถเลือก Choice นั้นๆซ้ำได้หรือไม่\n",
    "- p คือความน่าจะเป็นที่แต่ตัวจะถูกเลือกโดย p เป็นข้อมูลประเภท List ที่แต่ค่าใน List จะโยงกับข้อมูลที่เป็นต้องการจะสุ่มออกมาใน a"
   ]
  },
  {
   "cell_type": "code",
   "execution_count": null,
   "id": "f5c1847b",
   "metadata": {},
   "outputs": [],
   "source": [
    "np.random.choice(['a', 'b'], size = 100, replace = True, p =[0.90,0.10])"
   ]
  },
  {
   "cell_type": "markdown",
   "id": "cacc7748",
   "metadata": {},
   "source": [
    "#### Note: NumPy ยังมีตัวเลือกในการ Random ค่าต่างๆอีกมากมายสามารถสำรวจเพิ่มเติมได้ที่ https://numpy.org/doc/stable/reference/random/index.html"
   ]
  },
  {
   "cell_type": "markdown",
   "id": "1294dc79",
   "metadata": {},
   "source": [
    "### 9. การใช้ NumPy เพื่อคำนวณค่าสถิติ<a id=\"state\"></a>"
   ]
  },
  {
   "cell_type": "markdown",
   "id": "f6c87637",
   "metadata": {},
   "source": [
    "ทำการสร้าง Dataset ที่เป็นของตั้งแต่ 1 ถึง 10 ขึ้นมา เพื่อใช้สำหรับการลองคิดคำนวณสถิติ"
   ]
  },
  {
   "cell_type": "code",
   "execution_count": null,
   "id": "4503eadf",
   "metadata": {},
   "outputs": [],
   "source": [
    "mocking_data = np.arange(1,11)\n",
    "mocking_data_2d = np.arange(1,16).reshape(3,5)\n",
    "\n",
    "print('1D dataset:\\n', mocking_data)\n",
    "print('2D dataset:\\n', mocking_data_2d)"
   ]
  },
  {
   "cell_type": "markdown",
   "id": "25be62ae",
   "metadata": {},
   "source": [
    "**การคำนวณหาค่าเฉลี่ย(mean)**  \n",
    "ใช้คำสั่ง np.mean() ภายใน () ให้เติมชุดข้อมูลที่เราต้องการจะหาค่า mean "
   ]
  },
  {
   "cell_type": "markdown",
   "id": "50f7da33",
   "metadata": {},
   "source": [
    "#### TIPS: คำสั่งคำนวณค่าสถิติต่างๆส่วนใหญ่ นั้นจะมีตัวแปรหนึ่งชื่อ axis ซึ่ง axis จะเป็นการบอกว่าเราอยากหาค่าสถิตินั้นๆ ตามแนวแกนไหน row (axis = 1) หรือ column (axis = 0)"
   ]
  },
  {
   "cell_type": "code",
   "execution_count": null,
   "id": "c7b0318b",
   "metadata": {},
   "outputs": [],
   "source": [
    "print('Mean:', np.mean(mocking_data))\n",
    "print('Mean on column:',np.mean(mocking_data_2d, axis = 0))\n",
    "print('Mean on row:',np.mean(mocking_data_2d, axis = 1))"
   ]
  },
  {
   "cell_type": "markdown",
   "id": "0c02b0c8",
   "metadata": {},
   "source": [
    "**การคำนวณค่ามัธยฐาน (Median)**  \n",
    "ใช้คำสั่ง np.median() ภายใน () ให้เติมชุดข้อมูลที่เราต้องการจะหาค่า Median"
   ]
  },
  {
   "cell_type": "code",
   "execution_count": null,
   "id": "10f143c7",
   "metadata": {},
   "outputs": [],
   "source": [
    "print('Median:', np.median(mocking_data))\n",
    "print('Median on column:',np.median(mocking_data_2d, axis = 0))\n",
    "print('Median on row:',np.median(mocking_data_2d, axis = 1))"
   ]
  },
  {
   "cell_type": "markdown",
   "id": "6a61b83b",
   "metadata": {},
   "source": [
    "**การคำนวณค่าส่วนเบี่ยงเบนมาตราฐาน (Standard Deviation)**  \n",
    "ใช้คำสั่ง np.std() ภายใน () ให้เติมชุดข้อมูลที่เราต้องการจะหาค่า Standard Deviation"
   ]
  },
  {
   "cell_type": "code",
   "execution_count": null,
   "id": "3d11fe06",
   "metadata": {},
   "outputs": [],
   "source": [
    "print('Standard Deviation:', np.std(mocking_data))\n",
    "print('Standard Deviation on column:',np.std(mocking_data_2d, axis = 0))\n",
    "print('Standard Deviation on row:',np.std(mocking_data_2d, axis = 1))"
   ]
  },
  {
   "cell_type": "markdown",
   "id": "d648c9ed",
   "metadata": {},
   "source": [
    "<b>TIPS: ในกรณีที่เราเจอข้อมูลที่หายไป หรือ Missing data ข้อมูลนั้นจะมีค่าว่า NaN ซึ่งเราไม่สามารถนำมาใช้คำนวณหาค่าทางสถิติได้ ดังนั้นเมื่อเราต้องการนำข้อมูลชุดนั้นๆที่มี missing data มาคำนวณ NumPy จะมีคำสั่งที่รองรับการคิดคำนวณค่าต่างๆโดนไม่สนใจ Missing data คำสั่งนั้นจะขึ้นต้นด้วยคำว่า nan</b>"
   ]
  },
  {
   "cell_type": "code",
   "execution_count": null,
   "id": "0fa7252e",
   "metadata": {},
   "outputs": [],
   "source": [
    "mocking_missing_data = np.array([1,2,np.nan])"
   ]
  },
  {
   "cell_type": "code",
   "execution_count": null,
   "id": "b7748d93",
   "metadata": {},
   "outputs": [],
   "source": [
    "#คำนวณค่า Mean ด้วยคำสั่งปกติ\n",
    "print('Normal Mean Function:', np.mean(mocking_missing_data))\n",
    "\n",
    "#คำนวณค่า Mean ด้วยคำสั่งที่รองรับ nan\n",
    "print('NaN Mean Function:', np.nanmean(mocking_missing_data))"
   ]
  },
  {
   "cell_type": "markdown",
   "id": "5da67ca1",
   "metadata": {},
   "source": [
    "#### Note: NumPy ยังมีตัวเลือกในการ Random ค่าต่างๆอีกมากมายสามารถสำรวจเพิ่มเติมได้ที่ https://numpy.org/doc/stable/reference/routines.statistics.html"
   ]
  },
  {
   "cell_type": "markdown",
   "id": "1257627f",
   "metadata": {},
   "source": [
    "## 10. ส่วนเสริมการใช้ NumPy<a id=\"extension\"></a>"
   ]
  },
  {
   "cell_type": "markdown",
   "id": "94b755cd",
   "metadata": {},
   "source": [
    "### 10.1 เกร็ดการใช้ NumPy np.all() และ np.any()"
   ]
  },
  {
   "cell_type": "markdown",
   "id": "f92f86ef",
   "metadata": {},
   "source": [
    "np.all() และ np.any() นั้นจะรองรับ list ของ Boolean เพื่อนำไปประมวลผลแล้วให้เป็นค่า Boolean ออกมาโดย\n",
    "+ np.all() จะนำค่า Boolean ทุกอันมา and กัน ดังนั้นผลลัพธ์ที่ออกมา True เมื่อทุกตัวใน Boolean ต้องเป็น True\n",
    "+ np.any() จะนำค่า Boolean ทุกอันมา or กัน ดังนั้นผลลัพธ์ที่ออกมา True เมื่อมีตัวใดตัวหนึ่งใน List นั้นเป็นค่า True"
   ]
  },
  {
   "cell_type": "markdown",
   "id": "5ce68223",
   "metadata": {},
   "source": [
    "<b>ตัวอย่าง: เราต้องการตรวจสอบว่าของใน List หนึ่งนั้นมีค่าเกิน 5 ทุกตัวหรือไม่ แต่ข้อมูลมีเยอะมากเป็น 100,000 ตัวจะเช็คอย่างไร</b>"
   ]
  },
  {
   "cell_type": "code",
   "execution_count": null,
   "id": "b1818352",
   "metadata": {},
   "outputs": [],
   "source": [
    "data = np.random.randint(100, size=100000)\n",
    "print('Are all of the value in data more than five:', np.all(data > 5))\n",
    "print('Any of the value in data more than five:', np.any(data > 5))"
   ]
  },
  {
   "cell_type": "markdown",
   "id": "428a7eea",
   "metadata": {},
   "source": [
    "### 10.2 การหาของที่เป็นเอกลักษณ์ภายใน List"
   ]
  },
  {
   "cell_type": "markdown",
   "id": "aa23566b",
   "metadata": {},
   "source": [
    "เพื่อหาของที่เป็นเอกลักษณ์ภายใน List นั้น NumPy มีคำสั่งในการหาค่าที่เป็นเอกลักษณ์โดยใช้คำสั่งว่า np.unique() โดยภายใน () ให้ใส่ List/Array ที่เราต้องการดูว่ามีค่าอะไรบ้างอยู่ในนั้น"
   ]
  },
  {
   "cell_type": "markdown",
   "id": "fefe7b79",
   "metadata": {},
   "source": [
    "<b>ตัวอย่าง: จากข้อมูลที่มีเยอะมากเป็น 100,000 ตัว เราอยากรู้ในนั้นมีค่าอะไรเกิดขึ้นมาบ้าง</b>"
   ]
  },
  {
   "cell_type": "code",
   "execution_count": null,
   "id": "aa31ca41",
   "metadata": {},
   "outputs": [],
   "source": [
    "print('All of the unique data in the list:\\n',np.unique(data))"
   ]
  },
  {
   "cell_type": "markdown",
   "id": "dbfdb3bb",
   "metadata": {},
   "source": [
    "### 10.3 ข้อควรระวังเมื่อใช้ NumPy Array"
   ]
  },
  {
   "cell_type": "markdown",
   "id": "2d1aba99",
   "metadata": {},
   "source": [
    "ในกรณีที่เราใส่ Numpy Array ถูกใช้เป็น input เข้าไปใน Function แล้วเราไปทำการ Edit ค่าต่างๆภายใน Numpy Array นั้นๆข้อมูลภายในจะถูกเปลี่ยนไปทันที ถึงแม้ว่าการกระทำต่างๆจะขึ้นใน Function ที่ถือว่าเป็น Local variable ก็ตาม"
   ]
  },
  {
   "cell_type": "markdown",
   "id": "4f479cf6",
   "metadata": {},
   "source": [
    "<b>ตัวอย่าง: เรามี Function ทำการรับ x เป็น input โดยภายในตัว Function นั้นจะทำการบวกค่าทุกตัวใน x ด้วย 1</b>"
   ]
  },
  {
   "cell_type": "code",
   "execution_count": null,
   "id": "38fb1abb",
   "metadata": {},
   "outputs": [],
   "source": [
    "def plusone(x):\n",
    "    x += 1\n",
    "    y = x\n",
    "    return y"
   ]
  },
  {
   "cell_type": "code",
   "execution_count": null,
   "id": "e829e5d2",
   "metadata": {},
   "outputs": [],
   "source": [
    "#ทำการสร้าง NumPy array เป็น [1,1,1,1,1]\n",
    "numpy_array = np.ones(5)\n",
    "print('Original NumPy Array:', numpy_array)\n",
    "\n",
    "test_plusone = plusone(numpy_array)\n",
    "print('NumPy Array After went through the plusone function:', numpy_array)"
   ]
  },
  {
   "cell_type": "markdown",
   "id": "73eed821",
   "metadata": {},
   "source": [
    "เพื่อแก้ปัญหานี้มีการแก้ปัญหาอยู่สองวิธีด้วยกัน\n",
    "+ 1) ให้ทำการแปลงข้อมูล numpy array เป็น list พื้นฐานก่อน -> แต่วิธีนี้ใช้ไม่ได้เนื่องจากเรามีการใช้หลักการ Boardcasting ของ Numpy ใน Function***\n",
    "+ 2) ให้ใช้คำสั่ง .copy() เพื่อเป็นการสร้าง Numpy Array ตัวใหม่ก่อนที่จะทำการแก้ไข"
   ]
  },
  {
   "cell_type": "code",
   "execution_count": null,
   "id": "b7ca724d",
   "metadata": {},
   "outputs": [],
   "source": [
    "#2) ให้ใช้คำสั่ง .copy() เพื่อเป็นการสร้าง Numpy Array ตัวใหม่ก่อนที่จะทำการแก้ไข\n",
    "numpy_array = np.ones(5)\n",
    "print('Original NumPy Array:', numpy_array)\n",
    "\n",
    "test_plusone = plusone(numpy_array.copy()) #ใส่ .copy() ไปหลังตัวแปรที่บันทึกค่า NumPy Array ไว้\n",
    "print('NumPy Array After went through the plusone function:', numpy_array)"
   ]
  },
  {
   "cell_type": "code",
   "execution_count": null,
   "id": "f2314643",
   "metadata": {},
   "outputs": [],
   "source": []
  }
 ],
 "metadata": {
  "kernelspec": {
   "display_name": "Python 3 (ipykernel)",
   "language": "python",
   "name": "python3"
  },
  "language_info": {
   "codemirror_mode": {
    "name": "ipython",
    "version": 3
   },
   "file_extension": ".py",
   "mimetype": "text/x-python",
   "name": "python",
   "nbconvert_exporter": "python",
   "pygments_lexer": "ipython3",
   "version": "3.11.5"
  }
 },
 "nbformat": 4,
 "nbformat_minor": 5
}
